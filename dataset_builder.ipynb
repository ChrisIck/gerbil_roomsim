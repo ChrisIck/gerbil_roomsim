{
 "cells": [
  {
   "cell_type": "code",
   "execution_count": 6,
   "metadata": {},
   "outputs": [],
   "source": [
    "import numpy as np\n",
    "import os\n",
    "import dataset_utils as ds"
   ]
  },
  {
   "cell_type": "code",
   "execution_count": 18,
   "metadata": {},
   "outputs": [],
   "source": [
    "speaker_dataset_path = \"/vast/ci411/gerbil_data/vocal_datasets/preprocessed/speaker_dataset_full.h5\"\n",
    "big_simulated_dataset_path = \"/vast/ci411/gerbil_data/vocal_datasets/simulated/default-big_vocal.h5\"\n",
    "experiment_dir = '/vast/ci411/gerbil_data/vocal_datasets/combined/'"
   ]
  },
  {
   "cell_type": "code",
   "execution_count": 8,
   "metadata": {},
   "outputs": [],
   "source": [
    "n_events = ds.count_events(speaker_dataset_path)"
   ]
  },
  {
   "cell_type": "code",
   "execution_count": 26,
   "metadata": {},
   "outputs": [],
   "source": [
    "n_sim = ds.count_events(big_simulated_dataset_path)"
   ]
  },
  {
   "cell_type": "code",
   "execution_count": 10,
   "metadata": {},
   "outputs": [],
   "source": [
    "#define validation set\n",
    "val_ratio = 0.2\n",
    "all_idx = np.arange(n_events)\n",
    "np.random.shuffle(all_idx)\n",
    "split = int(val_ratio * n_events)\n",
    "val_idx = all_idx[:split]\n",
    "train_idx = all_idx[split:]\n"
   ]
  },
  {
   "cell_type": "code",
   "execution_count": 13,
   "metadata": {},
   "outputs": [
    {
     "name": "stdout",
     "output_type": "stream",
     "text": [
      "Extracting Training Data\n"
     ]
    },
    {
     "name": "stderr",
     "output_type": "stream",
     "text": [
      "100%|██████████| 56732/56732 [08:43<00:00, 108.43it/s]\n"
     ]
    },
    {
     "name": "stdout",
     "output_type": "stream",
     "text": [
      "Extracting Validation Data\n"
     ]
    },
    {
     "name": "stderr",
     "output_type": "stream",
     "text": [
      "100%|██████████| 14182/14182 [02:07<00:00, 110.86it/s]\n"
     ]
    }
   ],
   "source": [
    "target_dir = os.path.join(experiment_dir, \"00sim\")\n",
    "train_path = os.path.join(target_dir, \"train_set.h5\")\n",
    "val_path = os.path.join(target_dir, \"val_set.h5\")\n",
    "\n",
    "if os.path.exists(train_path):\n",
    "    os.remove(train_path)\n",
    "if os.path.exists(val_path):\n",
    "    os.remove(val_path)\n",
    "\n",
    "print(\"Extracting Training Data\")\n",
    "ds.extract_events(speaker_dataset_path, train_path, train_idx)\n",
    "print(\"Extracting Validation Data\")\n",
    "ds.extract_events(speaker_dataset_path, val_path, val_idx)"
   ]
  },
  {
   "cell_type": "code",
   "execution_count": 28,
   "metadata": {},
   "outputs": [
    {
     "name": "stdout",
     "output_type": "stream",
     "text": [
      "Extracting 5673 samples to /vast/ci411/gerbil_data/vocal_datasets/combined/01sim/train_set.h5\n"
     ]
    },
    {
     "name": "stderr",
     "output_type": "stream",
     "text": [
      "100%|██████████| 5673/5673 [02:39<00:00, 35.53it/s]\n"
     ]
    },
    {
     "name": "stdout",
     "output_type": "stream",
     "text": [
      "Extracting 11346 samples to /vast/ci411/gerbil_data/vocal_datasets/combined/02sim/train_set.h5\n"
     ]
    },
    {
     "name": "stderr",
     "output_type": "stream",
     "text": [
      "100%|██████████| 11346/11346 [05:13<00:00, 36.21it/s]\n"
     ]
    },
    {
     "name": "stdout",
     "output_type": "stream",
     "text": [
      "Extracting 17019 samples to /vast/ci411/gerbil_data/vocal_datasets/combined/03sim/train_set.h5\n"
     ]
    },
    {
     "name": "stderr",
     "output_type": "stream",
     "text": [
      "100%|██████████| 17019/17019 [08:23<00:00, 33.81it/s]\n"
     ]
    },
    {
     "name": "stdout",
     "output_type": "stream",
     "text": [
      "Extracting 22692 samples to /vast/ci411/gerbil_data/vocal_datasets/combined/04sim/train_set.h5\n"
     ]
    },
    {
     "name": "stderr",
     "output_type": "stream",
     "text": [
      "100%|██████████| 22692/22692 [10:35<00:00, 35.72it/s]\n"
     ]
    },
    {
     "name": "stdout",
     "output_type": "stream",
     "text": [
      "Extracting 28366 samples to /vast/ci411/gerbil_data/vocal_datasets/combined/05sim/train_set.h5\n"
     ]
    },
    {
     "name": "stderr",
     "output_type": "stream",
     "text": [
      "100%|██████████| 28366/28366 [13:15<00:00, 35.64it/s]\n"
     ]
    },
    {
     "name": "stdout",
     "output_type": "stream",
     "text": [
      "Extracting 34039 samples to /vast/ci411/gerbil_data/vocal_datasets/combined/06sim/train_set.h5\n"
     ]
    },
    {
     "name": "stderr",
     "output_type": "stream",
     "text": [
      "100%|██████████| 34039/34039 [16:11<00:00, 35.02it/s]\n"
     ]
    },
    {
     "name": "stdout",
     "output_type": "stream",
     "text": [
      "Extracting 39712 samples to /vast/ci411/gerbil_data/vocal_datasets/combined/07sim/train_set.h5\n"
     ]
    },
    {
     "name": "stderr",
     "output_type": "stream",
     "text": [
      "100%|██████████| 39712/39712 [19:32<00:00, 33.88it/s]\n"
     ]
    },
    {
     "name": "stdout",
     "output_type": "stream",
     "text": [
      "Extracting 45385 samples to /vast/ci411/gerbil_data/vocal_datasets/combined/08sim/train_set.h5\n"
     ]
    },
    {
     "name": "stderr",
     "output_type": "stream",
     "text": [
      "100%|██████████| 45385/45385 [21:31<00:00, 35.14it/s]\n"
     ]
    },
    {
     "name": "stdout",
     "output_type": "stream",
     "text": [
      "Extracting 51058 samples to /vast/ci411/gerbil_data/vocal_datasets/combined/09sim/train_set.h5\n"
     ]
    },
    {
     "name": "stderr",
     "output_type": "stream",
     "text": [
      "100%|██████████| 51058/51058 [22:52<00:00, 37.19it/s]\n"
     ]
    },
    {
     "name": "stdout",
     "output_type": "stream",
     "text": [
      "Extracting 56732 samples to /vast/ci411/gerbil_data/vocal_datasets/combined/10sim/train_set.h5\n"
     ]
    },
    {
     "name": "stderr",
     "output_type": "stream",
     "text": [
      "100%|██████████| 56732/56732 [24:42<00:00, 38.27it/s]\n"
     ]
    }
   ],
   "source": [
    "experiments = os.listdir(experiment_dir)\n",
    "for exp in experiments[1:]:\n",
    "    exp_dir = os.path.join(experiment_dir, exp)\n",
    "    train_path = os.path.join(exp_dir, \"train_set.h5\")\n",
    "    ratio = int(exp[:2])/10\n",
    "    n_training = ds.count_events(train_path)\n",
    "    sim_sample = int(n_training*ratio)\n",
    "    idx_list = np.random.choice(n_sim, sim_sample, replace=False)\n",
    "    print(f\"Extracting {sim_sample} samples to {train_path}\")\n",
    "    ds.extract_events(big_simulated_dataset_path, train_path, idx_list)"
   ]
  },
  {
   "cell_type": "code",
   "execution_count": null,
   "metadata": {},
   "outputs": [],
   "source": []
  }
 ],
 "metadata": {
  "kernelspec": {
   "display_name": "gerbil_envk",
   "language": "python",
   "name": "gerbil_env"
  },
  "language_info": {
   "codemirror_mode": {
    "name": "ipython",
    "version": 3
   },
   "file_extension": ".py",
   "mimetype": "text/x-python",
   "name": "python",
   "nbconvert_exporter": "python",
   "pygments_lexer": "ipython3",
   "version": "3.11.5"
  }
 },
 "nbformat": 4,
 "nbformat_minor": 4
}
